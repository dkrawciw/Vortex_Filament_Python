{
 "cells": [
  {
   "cell_type": "code",
   "execution_count": 83,
   "metadata": {},
   "outputs": [],
   "source": [
    "from filamentlib.VField import VField\n",
    "import numpy as np\n",
    "import timeit"
   ]
  },
  {
   "cell_type": "markdown",
   "metadata": {},
   "source": [
    "# BiotSavart Algorithm Tests"
   ]
  },
  {
   "cell_type": "markdown",
   "metadata": {},
   "source": [
    "Generate points to run through the different algorithms"
   ]
  },
  {
   "cell_type": "code",
   "execution_count": 84,
   "metadata": {},
   "outputs": [],
   "source": [
    "# Define the filament shape\n",
    "circle = lambda t : [np.cos(t), np.sin(t), t * 0]\n",
    "dCircle = lambda t : [-np.sin(t), np.cos(t), t * 0]\n",
    "circlePoints = np.linspace(0,2*np.pi,1000)\n",
    "\n",
    "# Calculate points on the circle to use\n",
    "s = np.array(circle(circlePoints))\n",
    "ds = np.array(dCircle(circlePoints))\n",
    "\n",
    "# Find points to calculate the Velocity Field at around the circle\n",
    "# In this case, it will be points along the x-axis through the circle at y=0 and z=0\n",
    "domain = np.linspace(-1.5, 1.5, 1000)\n",
    "posFunc = lambda t: [ t, t*0, t*0 ]\n",
    "pos = np.array( posFunc( domain ) )"
   ]
  },
  {
   "cell_type": "markdown",
   "metadata": {},
   "source": [
    "## Algorithm One\n",
    "This is the first algorithm that I came up with. It works fine, but it's so slow."
   ]
  },
  {
   "cell_type": "code",
   "execution_count": 85,
   "metadata": {},
   "outputs": [],
   "source": [
    "class AlgorithmOne():\n",
    "    @staticmethod\n",
    "    def BiotSavartPoint(curve, curveTangent, curvePoint):\n",
    "        s = range(0,len(curve[0]))\n",
    "        dv = []\n",
    "        for c in s:\n",
    "            num = np.cross( curveTangent[:,c], curvePoint - curve[:,c] )\n",
    "            den = np.linalg.norm(curvePoint - curve[:,c]) ** 3\n",
    "            dv.append( np.divide(num,den) )\n",
    "\n",
    "        dv = np.array(dv)\n",
    "\n",
    "        v = np.trapz([dv[:,0],dv[:,1],dv[:,2]], s)\n",
    "        return v\n",
    "    \n",
    "    @staticmethod\n",
    "    def BiotSavartPoints(curve, curveTangent, curvePoints):\n",
    "        biotSavartPoints = []\n",
    "\n",
    "        for i in range( len(curvePoints[0,:]) ):\n",
    "            curvePoint = curvePoints[:,i]\n",
    "            biotSavartPoints.append( VField.BiotSavartPoint( curve, curveTangent, curvePoint ) )\n",
    "            \n",
    "        return np.array( biotSavartPoints )"
   ]
  },
  {
   "cell_type": "code",
   "execution_count": 86,
   "metadata": {},
   "outputs": [
    {
     "name": "stdout",
     "output_type": "stream",
     "text": [
      "Code Time: 71.04703418799909\n"
     ]
    }
   ],
   "source": [
    "startTime = timeit.default_timer()\n",
    "\n",
    "bsPtsAlg1 = AlgorithmOne.BiotSavartPoints( s, ds, pos )\n",
    "\n",
    "stopTime = timeit.default_timer()\n",
    "\n",
    "print(f'Code Time: {stopTime - startTime}')"
   ]
  },
  {
   "cell_type": "markdown",
   "metadata": {},
   "source": [
    "## Algorithm Two\n"
   ]
  },
  {
   "cell_type": "code",
   "execution_count": 87,
   "metadata": {},
   "outputs": [],
   "source": [
    "class AlgorithmTwo():\n",
    "    @staticmethod\n",
    "    def BiotSavart( curve: np.array, curveTangent: np.array, fieldPoints: np.array ):\n",
    "        pointFieldStrength = np.zeros( ( len( fieldPoints[0,:] ), len( fieldPoints[:,0] ) ) )\n",
    "\n",
    "        s = range( len(curve[0,:]) )\n",
    "\n",
    "        for i in s:\n",
    "            pointDistances = fieldPoints.T.reshape(-1, fieldPoints.shape[0])\n",
    "            pointDistances =  pointDistances - curve[:,i]\n",
    "\n",
    "            pointNorms = np.linalg.norm(pointDistances, axis=1, keepdims=True)\n",
    "            pointNormsCubed = np.power( pointNorms, 3)\n",
    "\n",
    "            crossProduct = np.cross(curveTangent[: , i], pointDistances )\n",
    "            pointFieldStrength += np.divide(crossProduct, pointNormsCubed)\n",
    "\n",
    "        np.trapz( [pointFieldStrength[:,0], pointFieldStrength[:,1], pointFieldStrength[:,2]], s )\n",
    "        return pointFieldStrength"
   ]
  },
  {
   "cell_type": "code",
   "execution_count": 88,
   "metadata": {},
   "outputs": [
    {
     "name": "stdout",
     "output_type": "stream",
     "text": [
      "Code Time: 0.14034110300417524\n"
     ]
    }
   ],
   "source": [
    "startTime = timeit.default_timer()\n",
    "\n",
    "bsPtsAlg2 = AlgorithmTwo.BiotSavart( s, ds, pos )\n",
    "\n",
    "stopTime = timeit.default_timer()\n",
    "\n",
    "print(f'Code Time: {stopTime - startTime}')"
   ]
  },
  {
   "cell_type": "markdown",
   "metadata": {},
   "source": [
    "## Summary"
   ]
  },
  {
   "cell_type": "markdown",
   "metadata": {},
   "source": [
    "The second algorithm is so much faster and the values are very similar. Interestingly, they aren't the same, so there probably should be some error graphs to go along with the calculation. Even if the other algorithm is more accurate, the time difference is so dramatic that it still probably wouldn't be worthwhile to stick with the first algoritm.\n",
    "\n",
    "In the future, I think if we could get rid of the forloop alltogether, that would be the most ideal algorithm. The idea I currently have is to use Tensors to accomplish this."
   ]
  },
  {
   "cell_type": "markdown",
   "metadata": {},
   "source": []
  }
 ],
 "metadata": {
  "kernelspec": {
   "display_name": "Python 3",
   "language": "python",
   "name": "python3"
  },
  "language_info": {
   "codemirror_mode": {
    "name": "ipython",
    "version": 3
   },
   "file_extension": ".py",
   "mimetype": "text/x-python",
   "name": "python",
   "nbconvert_exporter": "python",
   "pygments_lexer": "ipython3",
   "version": "3.11.6"
  }
 },
 "nbformat": 4,
 "nbformat_minor": 2
}
