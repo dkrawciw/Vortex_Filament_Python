{
 "cells": [
  {
   "cell_type": "code",
   "execution_count": 1,
   "metadata": {},
   "outputs": [],
   "source": [
    "from filamentlib.VField import VField\n",
    "import numpy as np\n",
    "import timeit"
   ]
  },
  {
   "cell_type": "markdown",
   "metadata": {},
   "source": [
    "# BiotSavart Algorithm Tests"
   ]
  },
  {
   "cell_type": "markdown",
   "metadata": {},
   "source": [
    "Generate points to run through the different algorithms"
   ]
  },
  {
   "cell_type": "code",
   "execution_count": 2,
   "metadata": {},
   "outputs": [
    {
     "name": "stdout",
     "output_type": "stream",
     "text": [
      "[[-1.5        -1.496997   -1.49399399 ...  1.49399399  1.496997\n",
      "   1.5       ]\n",
      " [-0.         -0.         -0.         ...  0.          0.\n",
      "   0.        ]\n",
      " [-0.         -0.         -0.         ...  0.          0.\n",
      "   0.        ]]\n"
     ]
    }
   ],
   "source": [
    "# Define the filament shape\n",
    "circle = lambda t : [np.cos(t), np.sin(t), t * 0]\n",
    "dCircle = lambda t : [-np.sin(t), np.cos(t), t * 0]\n",
    "circlePoints = np.linspace(0,2*np.pi,1000)\n",
    "\n",
    "# Calculate points on the circle to use\n",
    "s = np.array(circle(circlePoints))\n",
    "ds = np.array(dCircle(circlePoints))\n",
    "\n",
    "# Find points to calculate the Velocity Field at around the circle\n",
    "# In this case, it will be points along the x-axis through the circle at y=0 and z=0\n",
    "domain = np.linspace(-1.5, 1.5, 1000)\n",
    "posFunc = lambda t: [ t, t*0, t*0 ]\n",
    "pos = np.array( posFunc( domain ) )\n",
    "\n",
    "print(pos)"
   ]
  },
  {
   "cell_type": "markdown",
   "metadata": {},
   "source": [
    "## Algorithm One\n",
    "This is the first algorithm that I came up with. It works fine, but it's so slow."
   ]
  },
  {
   "cell_type": "code",
   "execution_count": null,
   "metadata": {},
   "outputs": [],
   "source": [
    "class AlgorithmOne():\n",
    "    @staticmethod\n",
    "    def BiotSavartPoint(curve, curveTangent, curvePoint):\n",
    "        s = range(0,len(curve[0]))\n",
    "        dv = []\n",
    "        for c in s:\n",
    "            num = np.cross( curveTangent[:,c], curvePoint - curve[:,c] )\n",
    "            den = np.linalg.norm(curvePoint - curve[:,c]) ** 3\n",
    "            dv.append( np.divide(num,den) )\n",
    "\n",
    "        dv = np.array(dv)\n",
    "\n",
    "        v = np.trapz([dv[:,0],dv[:,1],dv[:,2]], s)\n",
    "        return v\n",
    "    \n",
    "    @staticmethod\n",
    "    def BiotSavartPoints(curve, curveTangent, curvePoints):\n",
    "        biotSavartPoints = []\n",
    "\n",
    "        for i in range( len(curvePoints[0,:]) ):\n",
    "            curvePoint = curvePoints[:,i]\n",
    "            biotSavartPoints.append( AlgorithmOne.BiotSavartPoint( curve, curveTangent, curvePoint ) )\n",
    "            \n",
    "        return np.array( biotSavartPoints )"
   ]
  },
  {
   "cell_type": "code",
   "execution_count": null,
   "metadata": {},
   "outputs": [],
   "source": [
    "startTime = timeit.default_timer()\n",
    "\n",
    "bsPtsAlg1 = AlgorithmOne.BiotSavartPoints( s, ds, pos )\n",
    "\n",
    "stopTime = timeit.default_timer()\n",
    "\n",
    "print(f'Code Time: {stopTime - startTime}')"
   ]
  },
  {
   "cell_type": "markdown",
   "metadata": {},
   "source": [
    "## Algorithm Two\n"
   ]
  },
  {
   "cell_type": "code",
   "execution_count": 26,
   "metadata": {},
   "outputs": [],
   "source": [
    "class AlgorithmTwo():\n",
    "    @staticmethod\n",
    "    def BiotSavart( curve: np.array, curveTangent: np.array, fieldPoints: np.array ):\n",
    "        pointFieldStrength = np.zeros( (len(curve[0,:]), len( fieldPoints[:,0] ), len( fieldPoints[0,:] ) ) )\n",
    "\n",
    "        s = range( len(curve[0,:]) )\n",
    "\n",
    "        for i in s:\n",
    "            pointDistances =  fieldPoints - curve[:,i].reshape(-1,1)\n",
    "\n",
    "            pointNorms = np.linalg.norm(pointDistances, axis=0)\n",
    "            pointNormsCubed = np.power( pointNorms, 3)\n",
    "\n",
    "            crossProduct = ( np.cross(curveTangent[:,i], pointDistances.T ) ).T\n",
    "            pointFieldStrength[i,:,:] = crossProduct / pointNormsCubed\n",
    "\n",
    "        v = np.trapz( pointFieldStrength, s , axis=0)\n",
    "        return v"
   ]
  },
  {
   "cell_type": "code",
   "execution_count": 27,
   "metadata": {},
   "outputs": [],
   "source": [
    "bsPtsAlg2 = AlgorithmTwo.BiotSavart( s, ds, pos )"
   ]
  },
  {
   "cell_type": "code",
   "execution_count": null,
   "metadata": {},
   "outputs": [],
   "source": [
    "startTime = timeit.default_timer()\n",
    "\n",
    "bsPtsAlg2 = AlgorithmTwo.BiotSavart( s, ds, pos )\n",
    "\n",
    "stopTime = timeit.default_timer()\n",
    "\n",
    "print(f'Code Time: {stopTime - startTime}')"
   ]
  },
  {
   "cell_type": "markdown",
   "metadata": {},
   "source": [
    "## Summary"
   ]
  },
  {
   "cell_type": "markdown",
   "metadata": {},
   "source": [
    "The second algorithm is so much faster and the values are very similar. Interestingly, they aren't the same, so there probably should be some error graphs to go along with the calculation. Even if the other algorithm is more accurate, the time difference is so dramatic that it still probably wouldn't be worthwhile to stick with the first algoritm.\n",
    "\n",
    "In the future, I think if we could get rid of the forloop alltogether, that would be the most ideal algorithm. The idea I currently have is to use Tensors to accomplish this."
   ]
  },
  {
   "cell_type": "markdown",
   "metadata": {},
   "source": []
  }
 ],
 "metadata": {
  "kernelspec": {
   "display_name": "Python 3",
   "language": "python",
   "name": "python3"
  },
  "language_info": {
   "codemirror_mode": {
    "name": "ipython",
    "version": 3
   },
   "file_extension": ".py",
   "mimetype": "text/x-python",
   "name": "python",
   "nbconvert_exporter": "python",
   "pygments_lexer": "ipython3",
   "version": "3.12.1"
  }
 },
 "nbformat": 4,
 "nbformat_minor": 2
}
