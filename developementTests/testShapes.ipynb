{
 "cells": [
  {
   "cell_type": "code",
   "execution_count": null,
   "metadata": {},
   "outputs": [],
   "source": [
    "from filamentlib import VField\n",
    "import numpy as np\n",
    "import matplotlib.pyplot as plt\n"
   ]
  },
  {
   "cell_type": "markdown",
   "metadata": {},
   "source": [
    "# Test Notebook"
   ]
  },
  {
   "cell_type": "markdown",
   "metadata": {},
   "source": [
    "## Circle Tests"
   ]
  },
  {
   "cell_type": "markdown",
   "metadata": {},
   "source": [
    "### Looking at the field around the filament"
   ]
  },
  {
   "cell_type": "markdown",
   "metadata": {},
   "source": [
    "At one slice of time, what is the direction of the field over a range of points"
   ]
  },
  {
   "cell_type": "code",
   "execution_count": null,
   "metadata": {},
   "outputs": [],
   "source": [
    "# Define the filament shape\n",
    "circle = lambda t : [np.cos(t), np.sin(t), t * 0]\n",
    "dCircle = lambda t : [-np.sin(t), np.cos(t), t * 0]\n",
    "circlePoints = np.linspace(0,2*np.pi,1000, endpoint=False)\n",
    "\n",
    "# Calculate points on the circle to use\n",
    "s = np.array(circle(circlePoints))\n",
    "ds = np.array(dCircle(circlePoints))"
   ]
  },
  {
   "cell_type": "code",
   "execution_count": null,
   "metadata": {},
   "outputs": [],
   "source": [
    "# Find points to calculate the Velocity Field at around the circle\n",
    "# In this case, it will be points along the x-axis through the circle at y=0 and z=0\n",
    "domain = np.linspace(-1.5, 1.5, 5)\n",
    "posFunc = lambda t: [ t, t*0, t*0 ]\n",
    "pos = np.array( posFunc( domain ) )\n",
    "\n",
    "bsPts = VField.BiotSavart( s, ds, pos )\n",
    "\n",
    "# Create a 3D quiver plot\n",
    "fig = plt.figure()\n",
    "ax = fig.add_subplot(111, projection='3d')\n",
    "ax.quiver(pos[0,:], pos[1,:], pos[2,:], bsPts[0,:], bsPts[1,:], bsPts[2,:], normalize=True, color='orange')\n",
    "\n",
    "ax.set_zlim([-1.5,1.5])\n",
    "ax.plot( s[0,:], s[1,:], s[2,:] )\n",
    "plt.title('Velocity Field Sample Vectors')\n",
    "\n",
    "plt.show()"
   ]
  },
  {
   "cell_type": "code",
   "execution_count": null,
   "metadata": {},
   "outputs": [],
   "source": [
    "dom = np.linspace(-1.5,1.5,200)\n",
    "posFunc = lambda t: [ t, t*0, t*0 ]\n",
    "positions = np.array(posFunc( dom ))\n",
    "\n",
    "bsPts = VField.RegularBiotSavart(s,ds,positions,10**-2)\n",
    "\n",
    "plt.quiver( positions[0,:],positions[2,:],bsPts[0,:],bsPts[2,:] )\n",
    "plt.plot( s[0,:],s[2,:] )\n",
    "\n",
    "plt.legend(['Velocity Vectors','Circle Filament'])\n",
    "\n",
    "plt.title('Velocity Field at y = 0')\n",
    "plt.ylabel('z')\n",
    "plt.xlabel('x')\n",
    "plt.show()"
   ]
  },
  {
   "cell_type": "code",
   "execution_count": null,
   "metadata": {},
   "outputs": [],
   "source": [
    "CircleField = VField.RegularBiotSavart(s,ds,s,10**-4)\n",
    "\n",
    "# Create a 3D quiver plot\n",
    "fig = plt.figure()\n",
    "ax = fig.add_subplot(111, projection='3d')\n",
    "ax.quiver(s[0,:], s[1,:], s[2,:], CircleField[0,:], CircleField[1,:], CircleField[2,:], normalize=True, color='orange')\n",
    "\n",
    "ax.set_zlim([-1.5,1.5])\n",
    "ax.plot( s[0,:], s[1,:], s[2,:] )\n",
    "plt.title('Circle Velocity Field')\n",
    "\n",
    "plt.show()"
   ]
  },
  {
   "cell_type": "markdown",
   "metadata": {},
   "source": [
    "### Euler Kappa Binormal Evolution of the circle filament"
   ]
  },
  {
   "cell_type": "code",
   "execution_count": null,
   "metadata": {},
   "outputs": [],
   "source": [
    "# Setting time for being updated first\n",
    "tLower = 0\n",
    "tUpper = 2\n",
    "deltaT = 0.5e-4\n",
    "numOfSteps = int((tUpper-tLower)/deltaT)\n",
    "print(numOfSteps)\n",
    "\n",
    "# After setting time constraints, figuring out spacial components based on time\n",
    "a = -np.pi\n",
    "b = np.pi\n",
    "deltaS = np.power(deltaT,1/4)\n",
    "SpatialMeshPoints = int((b-a)/deltaS)\n",
    "\n",
    "# Setting the initial circle\n",
    "t = np.linspace(a,b,SpatialMeshPoints, endpoint=False)\n",
    "f = lambda t: [ np.cos(t), np.sin(t), t*0 ]\n",
    "s = np.array( f(t) )\n",
    "\n",
    "updatedCircleCurves = VField.EulerKappaBinormal( s, t, deltaS, numOfSteps )"
   ]
  },
  {
   "cell_type": "code",
   "execution_count": null,
   "metadata": {},
   "outputs": [],
   "source": [
    "from IPython.display import HTML\n",
    "from matplotlib.animation import FuncAnimation\n",
    "\n",
    "# Set up the figure and 3D axis\n",
    "fig = plt.figure()\n",
    "ax = fig.add_subplot(111, projection='3d')\n",
    "\n",
    "# Set the axes properties (adjust these limits according to your data)\n",
    "ax.set_xlim([-2,2])\n",
    "ax.set_ylim([-2,2])\n",
    "ax.set_zlim([-2,2])\n",
    "# Initialize an empty line plot\n",
    "line, = ax.plot([], [], [], lw=2)\n",
    "\n",
    "# Update function for the animation\n",
    "def update(frame):\n",
    "    # Update the data of the line plot\n",
    "    line.set_data(updatedCircleCurves[frame, 0, :], updatedCircleCurves[frame, 1, :])\n",
    "    line.set_3d_properties(updatedCircleCurves[frame, 2, :])\n",
    "    return line,\n",
    "\n",
    "# Create the animation\n",
    "ani = FuncAnimation(fig, update, frames=range(0,7), blit=True)\n",
    "\n",
    "HTML(ani.to_jshtml())"
   ]
  },
  {
   "cell_type": "code",
   "execution_count": null,
   "metadata": {},
   "outputs": [],
   "source": [
    "legend = []\n",
    "for i in range( 0,5 ):\n",
    "    plt.plot( t, np.linalg.norm( np.divide(updatedCircleCurves[i,0:2,:] - s[0:2,:], s[0:2,:]) , axis=0 ) )\n",
    "    legend.append( f'Step: {i+1}' )\n",
    "plt.title('Error of Each Evolved Circle Filament')\n",
    "plt.ylabel('Error')\n",
    "plt.xlabel('Points on the Filament')\n",
    "plt.legend(legend)\n",
    "plt.show()"
   ]
  },
  {
   "cell_type": "markdown",
   "metadata": {},
   "source": [
    "## Ellipse Tests"
   ]
  },
  {
   "cell_type": "code",
   "execution_count": null,
   "metadata": {},
   "outputs": [],
   "source": [
    "from filamentlib.VField import VField\n",
    "import numpy as np\n",
    "import matplotlib.pyplot as plt"
   ]
  },
  {
   "cell_type": "code",
   "execution_count": null,
   "metadata": {},
   "outputs": [],
   "source": [
    "# Make the ellipse functions\n",
    "E = lambda t: [ np.cos(t), 2 * np.sin(t), t*0 ]\n",
    "dE = lambda t: [ -np.sin(t), 2 * np.cos(t), t*0 ]\n",
    "EPoints = np.linspace( 0, 2 * np.pi, 200 )\n",
    "\n",
    "# Find values on the ellipse\n",
    "s = np.array( E(EPoints) )\n",
    "ds = np.array( dE(EPoints) )\n",
    "\n",
    "# Define the domain to calculate values on the x and y axis of the ellipse\n",
    "dom = np.linspace(-2.5,2.5,70)\n",
    "\n",
    "# Find values on y = 0\n",
    "xPosFunc = lambda t: [ t, t*0, t*0 ]\n",
    "xPositions = np.array(xPosFunc( dom ))\n",
    "\n",
    "# Find values on x = 0\n",
    "yPosFunc = lambda t: [ t*0, t, t*0 ]\n",
    "yPositions = np.array(yPosFunc( dom ))\n",
    "\n",
    "# Measure the VField at those points\n",
    "bsPtsXAxis = VField.RegularBiotSavart( s, ds, xPositions, 10**-6 )\n",
    "bsPtsYAxis = VField.RegularBiotSavart( s, ds, yPositions, 10**-6 )\n",
    "\n",
    "# Get the plots ready\n",
    "fig, axs = plt.subplots(2, 1, figsize=(8, 8))\n",
    "\n",
    "# The y = 0 plot\n",
    "axs[0].plot( s[0,:], s[2,:] )\n",
    "axs[0].quiver( xPositions[0,:], xPositions[2,:], bsPtsXAxis[0,:], bsPtsXAxis[2,:] )\n",
    "axs[0].set_title('Velocity Field Around an Ellipse at y=0')\n",
    "axs[0].set_xlabel('x')\n",
    "axs[0].set_ylabel('z')\n",
    "axs[0].legend(['Ellipse','Vector Field'])\n",
    "\n",
    "# The x = 0 plot\n",
    "axs[1].plot( s[1,:], s[2,:] )\n",
    "axs[1].quiver( yPositions[1,:], yPositions[2,:], bsPtsYAxis[1,:], bsPtsYAxis[2,:] )\n",
    "axs[1].set_title('Velocity Field Around an Ellipse at x=0')\n",
    "axs[1].set_xlabel('y')\n",
    "axs[1].set_ylabel('z')\n",
    "axs[1].legend(['Ellipse','Vector Field'])\n",
    "\n",
    "# Plot Styling\n",
    "plt.subplots_adjust(hspace=0.4)\n",
    "\n",
    "# Plot the vector values\n",
    "plt.show()"
   ]
  },
  {
   "cell_type": "markdown",
   "metadata": {},
   "source": [
    "## Pringle Tests"
   ]
  },
  {
   "cell_type": "markdown",
   "metadata": {},
   "source": [
    "### Looking at the VField around the Pringle"
   ]
  },
  {
   "cell_type": "code",
   "execution_count": null,
   "metadata": {},
   "outputs": [],
   "source": [
    "# Make the Pringle function\n",
    "P = lambda t: [ np.cos(t), np.sin(t), np.square(np.cos(t)) - np.square(np.sin(t)) ]\n",
    "dP = lambda t: [ -np.sin(t), np.cos(t), 2*np.cos(t)*(-1)*np.sin(t) - 2*np.sin(t)*np.cos(t) ]\n",
    "PPoints = np.linspace( 0, 2 * np.pi, 200 )\n",
    "\n",
    "# Find values on the pringle\n",
    "s = np.array( P(PPoints) )\n",
    "ds = np.array( dP(PPoints) )\n",
    "\n",
    "# Define the domain to calculate values on the x and y axis of the pringle\n",
    "dom = np.linspace(-2.5,2.5,70)\n",
    "\n",
    "# Find values on y = 0\n",
    "xPosFunc = lambda t: [ t, t*0, t*0 ]\n",
    "xPositions = np.array(xPosFunc( dom ))\n",
    "\n",
    "# Find values on x = 0\n",
    "yPosFunc = lambda t: [ t*0, t, t*0 ]\n",
    "yPositions = np.array(yPosFunc( dom ))\n",
    "\n",
    "# Measure the VField at those points\n",
    "bsPtsXAxis = VField.BiotSavart( s, ds, xPositions )\n",
    "bsPtsYAxis = VField.BiotSavart( s, ds, yPositions )\n",
    "\n",
    "# Get the plots ready\n",
    "fig, axs = plt.subplots(2, 1, figsize=(8, 8))\n",
    "\n",
    "# The y = 0 plot\n",
    "axs[0].plot( s[0,:], s[2,:] )\n",
    "axs[0].quiver( xPositions[0,:], xPositions[2,:], bsPtsXAxis[0,:], bsPtsXAxis[2,:] )\n",
    "axs[0].set_title('Velocity Field Around an Pringle at y=0')\n",
    "axs[0].set_xlabel('x')\n",
    "axs[0].set_ylabel('z')\n",
    "axs[0].legend(['Ellipse','Vector Field'])\n",
    "\n",
    "# The x = 0 plot\n",
    "axs[1].plot( s[1,:], s[2,:] )\n",
    "axs[1].quiver( yPositions[1,:], yPositions[2,:], bsPtsYAxis[1,:], bsPtsYAxis[2,:] )\n",
    "axs[1].set_title('Velocity Field Around an Pringle at x=0')\n",
    "axs[1].set_xlabel('y')\n",
    "axs[1].set_ylabel('z')\n",
    "axs[1].legend(['Ellipse','Vector Field'])\n",
    "\n",
    "# Plot Styling\n",
    "plt.subplots_adjust(hspace=0.4)\n",
    "\n",
    "# Plot the vector values\n",
    "plt.show()"
   ]
  },
  {
   "cell_type": "code",
   "execution_count": null,
   "metadata": {},
   "outputs": [],
   "source": [
    "# Make the Pringle function\n",
    "P = lambda t: [ np.cos(t), np.sin(t), np.square(np.cos(t)) - np.square(np.sin(t)) ]\n",
    "dP = lambda t: [ -np.sin(t), np.cos(t), 2*np.cos(t)*(-1)*np.sin(t) - 2*np.sin(t)*np.cos(t) ]\n",
    "PPoints = np.linspace( 0, 2 * np.pi, 200, endpoint=False )\n",
    "\n",
    "# Find values on the pringle\n",
    "s = np.array( P(PPoints) )\n",
    "ds = np.array( dP(PPoints) )\n",
    "\n",
    "pringleField = VField.RegularBiotSavart( s, ds, s, 10**-4 )\n",
    "\n",
    "# Create a 3D quiver plot\n",
    "fig = plt.figure()\n",
    "ax = fig.add_subplot(111, projection='3d')\n",
    "ax.quiver(s[0,:], s[1,:], s[2,:], pringleField[0,:], pringleField[1,:], pringleField[2,:], normalize=True, color='orange')\n",
    "\n",
    "ax.set_zlim([-1.5,1.5])\n",
    "ax.plot( s[0,:], s[1,:], s[2,:] )\n",
    "plt.title('Pringle Velocity Field')\n",
    "\n",
    "plt.show()"
   ]
  },
  {
   "cell_type": "markdown",
   "metadata": {},
   "source": [
    "### Updating the Pringle"
   ]
  },
  {
   "cell_type": "code",
   "execution_count": null,
   "metadata": {},
   "outputs": [],
   "source": [
    "# Setting time for being updated first\n",
    "tLower = 0\n",
    "tUpper = 2\n",
    "deltaT = 0.5e-2\n",
    "numOfSteps = int((tUpper-tLower)/deltaT)\n",
    "print(numOfSteps)\n",
    "\n",
    "# After setting time constraints, figuring out spacial components based on time\n",
    "a = -np.pi\n",
    "b = np.pi\n",
    "deltaS = np.power(deltaT,1/4)\n",
    "SpatialMeshPoints = int((b-a)/deltaS)\n",
    "\n",
    "# Setting the initial circle\n",
    "t = np.linspace(a,b,SpatialMeshPoints, endpoint=False)\n",
    "f = lambda t: [ np.cos(t), np.sin(t), np.square(np.cos(t)) - np.square(np.sin(t)) ]\n",
    "s = np.array( f(t) )\n",
    "\n",
    "pringles = VField.EulerKappaBinormal( s, t, deltaS, numOfSteps )"
   ]
  },
  {
   "cell_type": "code",
   "execution_count": null,
   "metadata": {},
   "outputs": [],
   "source": [
    "from IPython.display import HTML\n",
    "from matplotlib.animation import FuncAnimation\n",
    "\n",
    "# Set up the figure and 3D axis\n",
    "fig = plt.figure()\n",
    "ax = fig.add_subplot(111, projection='3d')\n",
    "\n",
    "# Set the axes properties (adjust these limits according to your data)\n",
    "ax.set_xlim([-2,2])\n",
    "ax.set_ylim([-2,2])\n",
    "ax.set_zlim([-2,2])\n",
    "# Initialize an empty line plot\n",
    "line, = ax.plot([], [], [], lw=2)\n",
    "\n",
    "# Update function for the animation\n",
    "def update(frame):\n",
    "    # Update the data of the line plot\n",
    "    line.set_data(pringles[frame, 0, :], pringles[frame, 1, :])\n",
    "    line.set_3d_properties(pringles[frame, 2, :])\n",
    "    return line,\n",
    "\n",
    "# Create the animation\n",
    "ani = FuncAnimation(fig, update, frames=range(0,10), blit=True)\n",
    "\n",
    "HTML(ani.to_jshtml())"
   ]
  },
  {
   "cell_type": "markdown",
   "metadata": {},
   "source": [
    "### RK23 on the Pringle with KappaBinormal"
   ]
  },
  {
   "cell_type": "code",
   "execution_count": null,
   "metadata": {},
   "outputs": [],
   "source": [
    "import numpy as np\n",
    "from filamentlib.VField import VField\n",
    "import matplotlib.pyplot as plt"
   ]
  },
  {
   "cell_type": "code",
   "execution_count": null,
   "metadata": {},
   "outputs": [],
   "source": [
    "a = -np.pi\n",
    "b = np.pi\n",
    "meshpoints = np.linspace(a,b,250, endpoint=False)\n",
    "f = lambda t: [ np.cos(t), np.sin(t), np.square(np.cos(t)) - np.square(np.sin(t)) ]\n",
    "s = np.array( f(meshpoints) )\n",
    "\n",
    "tspan = [0,1]"
   ]
  },
  {
   "cell_type": "code",
   "execution_count": null,
   "metadata": {},
   "outputs": [],
   "source": [
    "curves = VField.EvolveKappaBinormal( s, meshpoints, tspan, 'RK23' )\n"
   ]
  },
  {
   "cell_type": "code",
   "execution_count": null,
   "metadata": {},
   "outputs": [],
   "source": [
    "from IPython.display import HTML\n",
    "from matplotlib.animation import FuncAnimation\n",
    "\n",
    "# Set up the figure and 3D axis\n",
    "fig = plt.figure()\n",
    "ax = fig.add_subplot(111, projection='3d')\n",
    "\n",
    "# Set the axes properties (adjust these limits according to your data)\n",
    "ax.set_xlim([-2,2])\n",
    "ax.set_ylim([-2,2])\n",
    "ax.set_zlim([-2,2])\n",
    "# Initialize an empty line plot\n",
    "line, = ax.plot([], [], [], lw=2)\n",
    "\n",
    "# Update function for the animation\n",
    "def update(frame):\n",
    "    # Update the data of the line plot\n",
    "    line.set_data(curves[frame, 0, :], curves[frame, 1, :])\n",
    "    line.set_3d_properties(curves[frame, 2, :])\n",
    "    return line,\n",
    "\n",
    "# Create the animation\n",
    "ani = FuncAnimation(fig, update, frames=range(0, curves.shape[0], int(curves.shape[0]/80) ), blit=True)\n",
    "\n",
    "HTML(ani.to_jshtml())"
   ]
  },
  {
   "cell_type": "code",
   "execution_count": null,
   "metadata": {},
   "outputs": [],
   "source": [
    "fig = plt.figure()\n",
    "ax = fig.add_subplot(111, projection='3d')\n",
    "\n",
    "for i in range(0, curves.shape[0], int(curves.shape[0]/3)):\n",
    "    ax.plot(curves[i,0,:], curves[i,1,:], i*2 / int(curves.shape[0]/3) + curves[i,2,:])\n",
    "\n",
    "plt.show()"
   ]
  },
  {
   "cell_type": "markdown",
   "metadata": {},
   "source": [
    "### RK23 on the Pringle with Biot-Savart"
   ]
  },
  {
   "cell_type": "code",
   "execution_count": null,
   "metadata": {},
   "outputs": [],
   "source": [
    "import numpy as np\n",
    "from filamentlib.VField import VField\n",
    "import matplotlib.pyplot as plt"
   ]
  },
  {
   "cell_type": "code",
   "execution_count": null,
   "metadata": {},
   "outputs": [],
   "source": [
    "a = -np.pi\n",
    "b = np.pi\n",
    "meshpoints = np.linspace(a,b,250, endpoint=False)\n",
    "f = lambda t: [ np.cos(t), np.sin(t), np.square(np.cos(t)) - np.square(np.sin(t)) ]\n",
    "s = np.array( f(meshpoints) )\n",
    "\n",
    "tspan = [0,1]"
   ]
  },
  {
   "cell_type": "code",
   "execution_count": null,
   "metadata": {},
   "outputs": [],
   "source": [
    "curves = VField.EvolveBiotSavartRegular( s, meshpoints, 1, tspan, 'RK45' )\n"
   ]
  },
  {
   "cell_type": "code",
   "execution_count": null,
   "metadata": {},
   "outputs": [],
   "source": [
    "from IPython.display import HTML\n",
    "from matplotlib.animation import FuncAnimation\n",
    "\n",
    "# Set up the figure and 3D axis\n",
    "fig = plt.figure()\n",
    "ax = fig.add_subplot(111, projection='3d')\n",
    "\n",
    "# Set the axes properties (adjust these limits according to your data)\n",
    "ax.set_xlim([-2,2])\n",
    "ax.set_ylim([-2,2])\n",
    "ax.set_zlim([-2,2])\n",
    "# Initialize an empty line plot\n",
    "line, = ax.plot([], [], [], lw=2)\n",
    "\n",
    "# Update function for the animation\n",
    "def update(frame):\n",
    "    # Update the data of the line plot\n",
    "    line.set_data(curves[frame, 0, :], curves[frame, 1, :])\n",
    "    line.set_3d_properties(curves[frame, 2, :])\n",
    "    return line,\n",
    "\n",
    "# Create the animation\n",
    "ani = FuncAnimation(fig, update, frames=range(0, curves.shape[0], int(curves.shape[0]/20) ), blit=True)\n",
    "\n",
    "HTML(ani.to_jshtml())"
   ]
  },
  {
   "cell_type": "markdown",
   "metadata": {},
   "source": [
    "## Kappa-Binormal Field over a Pringle"
   ]
  },
  {
   "cell_type": "code",
   "execution_count": null,
   "metadata": {},
   "outputs": [],
   "source": [
    "import numpy as np\n",
    "from filamentlib import VField\n",
    "import matplotlib.pyplot as plt"
   ]
  },
  {
   "cell_type": "code",
   "execution_count": null,
   "metadata": {},
   "outputs": [],
   "source": [
    "t = np.linspace(-np.pi, np.pi, 100, endpoint=False)\n",
    "f = lambda t: [ np.cos(t), np.sin(t), np.square(np.cos(t)) - np.square(np.sin(t)) ]\n",
    "s = np.array( f(t) )\n",
    "\n",
    "field = VField.KappaBinormal(s,t)"
   ]
  },
  {
   "cell_type": "code",
   "execution_count": null,
   "metadata": {},
   "outputs": [],
   "source": [
    "# Create a 3D quiver plot\n",
    "fig = plt.figure()\n",
    "ax = fig.add_subplot(111, projection='3d')\n",
    "ax.quiver(s[0,:], s[1,:], s[2,:], field[0,:], field[1,:], field[2,:], normalize=True, color='orange')\n",
    "\n",
    "ax.set_zlim([-1.5,1.5])\n",
    "ax.plot( s[0,:], s[1,:], s[2,:] )\n",
    "plt.title('Pringle Velocity Field')\n",
    "\n",
    "plt.show()"
   ]
  }
 ],
 "metadata": {
  "kernelspec": {
   "display_name": "Python 3",
   "language": "python",
   "name": "python3"
  },
  "language_info": {
   "codemirror_mode": {
    "name": "ipython",
    "version": 3
   },
   "file_extension": ".py",
   "mimetype": "text/x-python",
   "name": "python",
   "nbconvert_exporter": "python",
   "pygments_lexer": "ipython3",
   "version": "3.12.2"
  }
 },
 "nbformat": 4,
 "nbformat_minor": 2
}
